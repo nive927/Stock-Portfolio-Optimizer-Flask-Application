{
 "cells": [
  {
   "cell_type": "markdown",
   "metadata": {},
   "source": [
    "# Risk Return of a Portfolio\n",
    "\n",
    "All investors know that there is a trade off between risk and return.<br>\n",
    "The greater the risk taken, the higher the return.<br>\n",
    "Investors make a trade off between risk & expected return – *not risk and actual return*.<br>\n",
    "\n",
    "In the domain of return on investment (ROI), expected return refers to its average (mean).<br>\n",
    "It’s the weighted average of the possible outcomes.<br>\n",
    "The weight of a particular return is the probability of that return occurring.<br>"
   ]
  },
  {
   "cell_type": "markdown",
   "metadata": {},
   "source": [
    "## Example\n",
    "\n",
    "Given you have $100,000 to invest for 1 year.<br>\n",
    "Treasury bills yield 5% (TBills pay a lot less, but this is for demonstration purposes only)<br>\n",
    "One alternative is to invest in TBills for no risk where the expected return is 5%.<br>\n",
    "Another alternative is to invest in stock.<br>\n",
    "\n",
    "Suppose the possible outcomes from investing in stock are <br>\n",
    "\n",
    "|Probability |Return (%)\n",
    "| :- |---\n",
    "|0.05|50\n",
    "|0.25|30\n",
    "|0.4|10\n",
    "|0.25|-10\n",
    "|0.05|-30\n",
    "\n",
    "i.e. there is a 0.05 probability that the return will be +50%, a 0.25 probability that the return will be 30%, etc.\n",
    "\n",
    "The expected return is calculated by \n",
    "(0.05 $*$ 0.5) + (0.25 $*$ 0.3) + (0.4 $*$ 0.1) + (0.25 $*$ -0.1) + (0.05 $*$ -0.3) =  0.1\n",
    "\n",
    "The python code to perform this calculation:"
   ]
  },
  {
   "cell_type": "code",
   "execution_count": 1,
   "metadata": {
    "scrolled": true
   },
   "outputs": [
    {
     "data": {
      "text/plain": [
       "0.1"
      ]
     },
     "execution_count": 1,
     "metadata": {},
     "output_type": "execute_result"
    }
   ],
   "source": [
    "exp_ret = (0.05 * 0.5) + (0.25 * 0.3) + (0.4 * 0.1) + (0.25 * -0.1) + (0.05 * -0.3)\n",
    "\n",
    "round(exp_ret, 2)"
   ]
  },
  {
   "cell_type": "markdown",
   "metadata": {},
   "source": [
    "So for taking some risk, you should expect to increase your expected return from 5% as offered by TBills, to 10%.\n",
    "\n",
    "On the \\\\$100,000 investment, you may also get returns as high as 50% (\\\\$50,000) but you could also lose up to \\\\$30,000."
   ]
  },
  {
   "cell_type": "markdown",
   "metadata": {},
   "source": [
    "## Quantifying Risk\n",
    "\n",
    "Often the std deviation, $\\sigma$, is used\n",
    "\n",
    "$\\sigma = \\sqrt{E(R^2) - [E(R)]^2}$\n",
    "\n",
    "$E(R^2) = (0.05 * 0.5^2) + (0.25 * 0.3^2) + (0.4 * 0.1^2) + \n",
    "(0.25 * (-0.1)^2) + (0.05 * (-0.3)^2) = 0.046$\n",
    "\n",
    "\n",
    "The python code to perform this calculation:"
   ]
  },
  {
   "cell_type": "code",
   "execution_count": 2,
   "metadata": {
    "scrolled": true
   },
   "outputs": [
    {
     "data": {
      "text/plain": [
       "0.046"
      ]
     },
     "execution_count": 2,
     "metadata": {},
     "output_type": "execute_result"
    }
   ],
   "source": [
    "E_Rsqrd = (0.05 * 0.5**2) + (0.25 * 0.3**2) + (0.4 * 0.1**2) + (0.25 * (-0.1)**2) + (0.05 * (-0.3)**2)\n",
    "\n",
    "round(E_Rsqrd, 3)"
   ]
  },
  {
   "cell_type": "markdown",
   "metadata": {},
   "source": [
    " and <br>\n",
    " \n",
    " $[E(R)]^2 = 0.1^2 = 0.01$\n",
    " \n",
    " The python code to perform this calculation:"
   ]
  },
  {
   "cell_type": "code",
   "execution_count": 3,
   "metadata": {
    "scrolled": true
   },
   "outputs": [
    {
     "data": {
      "text/plain": [
       "0.01"
      ]
     },
     "execution_count": 3,
     "metadata": {},
     "output_type": "execute_result"
    }
   ],
   "source": [
    "ER_sqrd = 0.1**2\n",
    "\n",
    "round(ER_sqrd, 2)"
   ]
  },
  {
   "cell_type": "markdown",
   "metadata": {},
   "source": [
    "**Calculate the standard deviation** \n",
    "\n",
    "The standard deviation, $\\sigma = 0.1897$\n",
    "\n",
    "From above, it is obtained by this formula, $\\sigma = \\sqrt{E(R^2) - [E(R)]^2}$\n",
    "\n",
    "The python code to perform this calculation:"
   ]
  },
  {
   "cell_type": "code",
   "execution_count": 4,
   "metadata": {},
   "outputs": [
    {
     "data": {
      "text/plain": [
       "0.1897"
      ]
     },
     "execution_count": 4,
     "metadata": {},
     "output_type": "execute_result"
    }
   ],
   "source": [
    "import math\n",
    "\n",
    "std_dev = math.sqrt(E_Rsqrd - ER_sqrd)\n",
    "round(std_dev, 4)"
   ]
  },
  {
   "cell_type": "markdown",
   "metadata": {},
   "source": [
    "## Calculating the expected return on a portfolio\n",
    "\n",
    "A portfolio consisting of 2 securities with returns $R_1$ and $R_2$\n",
    "\n",
    "Put a proportion of money into the first, $w_1$, <br>\n",
    "and the remainder into the second $w_2$ = $1 – w_1$\n",
    "\n",
    "The return on the investment is $w_1R_1$ + $w_2R_2$\n",
    "\n",
    "The portfolio expected return $\\mu_p$ = $w_1\\mu_1$ + $w_2\\mu_2$<br>\n",
    "\n",
    "where<br>\n",
    "    $\\mu_1$ is the expected return on the first investment<br>\n",
    "    $\\mu_2$ is the expected return on the second investment\n",
    "\n",
    "The standard deviation, $\\sigma_p$ of such a portfolio is\n",
    "\n",
    "$\\sigma_p = \\sqrt{w_1^2\\sigma_1^2 + w_2^2\\sigma_2^2 + 2\\rho w_1w_2\\sigma_1\\sigma_2}$\n",
    "\n",
    "where\n",
    "\n",
    "$\\sigma_1$ and $\\sigma_2$ are the std deviation of $R_1$ and $R_2$<br>\n",
    "$\\rho$ is the coefficient of correlation between $\\sigma_1$ and $\\sigma_2$\n",
    "\n",
    "Given the following:<br>\n",
    "$\\mu_1 = 10\\%$  $\\sigma_1 = 16\\%$<br>\n",
    "$\\mu_2 = 15\\%$  $\\sigma_2 = 24\\%$<br>\n",
    "$\\rho = 20\\%$\n",
    "\n",
    "\n",
    "The expected return and standard deviation for this portfolio for weights of  \n",
    "\n",
    "(0%, 100%), (20%, 80%), (40%, 60%), (60%, 40%), (80%, 20%), (100%, 0%)\n",
    "\n",
    "is\n",
    "\n",
    "|$w_1$|$w_2$|$\\mu_p$|$\\sigma_p$\n",
    "|---|---|---|---\n",
    "|0.0|1.0|15%|24.00%\n",
    "|0.2|0.8|14%|20.09%\n",
    "|0.4|0.6|13%|16.89%\n",
    "|0.6|0.4|12%|14.87%\n",
    "|0.8|0.2|11%|14.54%\n",
    "|1.0|0.0|10%|16.00%\n",
    "\n",
    "E.g. for $w_1 = 0.2$ and $w_2 = 0.8$"
   ]
  },
  {
   "cell_type": "code",
   "execution_count": 5,
   "metadata": {},
   "outputs": [],
   "source": [
    "w1 = 0.2\n",
    "w2 = 0.8\n",
    "\n",
    "mu1 = 0.1\n",
    "mu2 = 0.15\n",
    "\n",
    "sigma1 = 0.16\n",
    "sigma2 = 0.24\n",
    "\n",
    "rho = 0.2"
   ]
  },
  {
   "cell_type": "code",
   "execution_count": 6,
   "metadata": {},
   "outputs": [
    {
     "data": {
      "text/plain": [
       "0.14"
      ]
     },
     "execution_count": 6,
     "metadata": {},
     "output_type": "execute_result"
    }
   ],
   "source": [
    "exp_ret_portfolio = (w1 * mu1) + (w2 * mu2)\n",
    "round(exp_ret_portfolio, 2)"
   ]
  },
  {
   "cell_type": "code",
   "execution_count": 7,
   "metadata": {
    "scrolled": true
   },
   "outputs": [
    {
     "data": {
      "text/plain": [
       "20.09"
      ]
     },
     "execution_count": 7,
     "metadata": {},
     "output_type": "execute_result"
    }
   ],
   "source": [
    "std_dev_portfolio = math.sqrt((w1**2 * sigma1**2) + (w2**2 * sigma2**2) + (2 * rho * w1 * w2 * sigma1 * sigma2))\n",
    "round(std_dev_portfolio * 100, 2)"
   ]
  },
  {
   "cell_type": "markdown",
   "metadata": {},
   "source": [
    "## Calculating the expected return\n",
    "\n",
    "From above, the return on the investment is $w_1R_1$ + $w_2R_2$\n",
    "\n",
    "We'll create a simple python function and a test (the results are taken from above) to calculate this"
   ]
  },
  {
   "cell_type": "markdown",
   "metadata": {},
   "source": [
    "**A simple function to calculate the expected return**\n",
    "\n",
    "This function will take 4 arguments, w1, er1, w2 and er2"
   ]
  },
  {
   "cell_type": "code",
   "execution_count": 8,
   "metadata": {},
   "outputs": [],
   "source": [
    "def calc_exp_ret(w1, er1, w2, er2):\n",
    "    return (w1 * er1) + (w2 * er2)"
   ]
  },
  {
   "cell_type": "markdown",
   "metadata": {},
   "source": [
    "Check that the following 'unit test' passes"
   ]
  },
  {
   "cell_type": "code",
   "execution_count": 9,
   "metadata": {},
   "outputs": [],
   "source": [
    "#simple test\n",
    "er = calc_exp_ret(0.2,0.1,0.8,0.15)\n",
    "\n",
    "# assert will throw an error if the expression after it is not True\n",
    "assert round(er,2) == 0.14"
   ]
  },
  {
   "cell_type": "markdown",
   "metadata": {},
   "source": [
    "## Calculating the standard deviation\n",
    "\n",
    "From above, the standard deviation, $\\sigma_p$ of such a portfolio is\n",
    "\n",
    "$\\sigma_p = \\sqrt{w_1^2\\sigma_1^2 + w_2^2\\sigma_2^2 + 2\\rho w_1w_2\\sigma_1\\sigma_2}$\n",
    "\n",
    "We'll create another python function to perform this calculation\n",
    "\n",
    "This function will take 5 arguments\n",
    "w1, sd1, w2, sd2, coeff"
   ]
  },
  {
   "cell_type": "code",
   "execution_count": 10,
   "metadata": {},
   "outputs": [],
   "source": [
    "def calc_std_dev(w1, sd1, w2, sd2, coeff):\n",
    "    return math.sqrt( (w1**2 * sd1**2) + (w2**2 * sd2**2) + (2 * coeff * w1 * w2 * sd1 * sd2))"
   ]
  },
  {
   "cell_type": "markdown",
   "metadata": {},
   "source": [
    "Check that the following 'unit test' passes"
   ]
  },
  {
   "cell_type": "code",
   "execution_count": 11,
   "metadata": {},
   "outputs": [],
   "source": [
    "#simple test\n",
    "sd = calc_std_dev(0.2, 0.16, 0.8, 0.24, 0.2)\n",
    "\n",
    "# assert will throw an error if the expression after it is not True\n",
    "assert round(sd, 4) == 0.2009"
   ]
  },
  {
   "cell_type": "markdown",
   "metadata": {},
   "source": [
    "## Pulling it all together\n",
    "\n",
    "You can create the set of expected returns and standard deviations as a pandas DataFrame.\n",
    "\n",
    "Then, using the 2 functions defined above (calc_exp_ret and calc_std_dev)<br>\n",
    "and the values\n",
    "\n",
    "$\\mu_1 = 10\\%$  $\\sigma_1 = 16\\%$<br>\n",
    "$\\mu_2 = 15\\%$  $\\sigma_2 = 24\\%$<br>\n",
    "$\\rho = 20\\%$\n",
    "\n",
    "You can write 2 new functions that act on each individual row of the DataFrame, 1 to populate the cell with an expected return and the other function to populate the cell with the standard deviation.\n",
    "\n",
    "We can also use the DataFrame apply method to apply these functions to each individual row of the DataFrame.\n",
    "\n",
    "First we'll create the DataFrame, initialized."
   ]
  },
  {
   "cell_type": "markdown",
   "metadata": {},
   "source": [
    "2 columns and 6 rows\n",
    "\n",
    "|$w_1$|$w_2$\n",
    "|---|---\n",
    "|0.0|1.0\n",
    "|0.2|0.8\n",
    "|0.4|0.6\n",
    "|0.6|0.4\n",
    "|0.8|0.2\n",
    "|1.0|0.0"
   ]
  },
  {
   "cell_type": "code",
   "execution_count": 12,
   "metadata": {},
   "outputs": [
    {
     "data": {
      "text/html": [
       "<div>\n",
       "<style scoped>\n",
       "    .dataframe tbody tr th:only-of-type {\n",
       "        vertical-align: middle;\n",
       "    }\n",
       "\n",
       "    .dataframe tbody tr th {\n",
       "        vertical-align: top;\n",
       "    }\n",
       "\n",
       "    .dataframe thead th {\n",
       "        text-align: right;\n",
       "    }\n",
       "</style>\n",
       "<table border=\"1\" class=\"dataframe\">\n",
       "  <thead>\n",
       "    <tr style=\"text-align: right;\">\n",
       "      <th></th>\n",
       "      <th>w1</th>\n",
       "      <th>w2</th>\n",
       "    </tr>\n",
       "  </thead>\n",
       "  <tbody>\n",
       "    <tr>\n",
       "      <th>0</th>\n",
       "      <td>0.0</td>\n",
       "      <td>1.0</td>\n",
       "    </tr>\n",
       "    <tr>\n",
       "      <th>1</th>\n",
       "      <td>0.2</td>\n",
       "      <td>0.8</td>\n",
       "    </tr>\n",
       "    <tr>\n",
       "      <th>2</th>\n",
       "      <td>0.4</td>\n",
       "      <td>0.6</td>\n",
       "    </tr>\n",
       "    <tr>\n",
       "      <th>3</th>\n",
       "      <td>0.6</td>\n",
       "      <td>0.4</td>\n",
       "    </tr>\n",
       "    <tr>\n",
       "      <th>4</th>\n",
       "      <td>0.8</td>\n",
       "      <td>0.2</td>\n",
       "    </tr>\n",
       "    <tr>\n",
       "      <th>5</th>\n",
       "      <td>1.0</td>\n",
       "      <td>0.0</td>\n",
       "    </tr>\n",
       "  </tbody>\n",
       "</table>\n",
       "</div>"
      ],
      "text/plain": [
       "    w1   w2\n",
       "0  0.0  1.0\n",
       "1  0.2  0.8\n",
       "2  0.4  0.6\n",
       "3  0.6  0.4\n",
       "4  0.8  0.2\n",
       "5  1.0  0.0"
      ]
     },
     "execution_count": 12,
     "metadata": {},
     "output_type": "execute_result"
    }
   ],
   "source": [
    "import pandas as pd\n",
    "\n",
    "Pfolio_DF = pd.DataFrame([\n",
    "    [0.0, 1.0],\n",
    "    [0.2, 0.8],\n",
    "    [0.4, 0.6],\n",
    "    [0.6, 0.4],\n",
    "    [0.8, 0.2],\n",
    "    [1.0, 0.0]\n",
    "], columns=['w1', 'w2'])\n",
    "\n",
    "Pfolio_DF"
   ]
  },
  {
   "cell_type": "markdown",
   "metadata": {},
   "source": [
    "**A python function, to calculate the expected return for a single row of the DataFrame**\n",
    "\n",
    "This function takes a single argument, a row, and returns the expected return for that row using the function calc_exp_ret (defined earlier)\n",
    "\n",
    "**Inputs:**<br>\n",
    "The values for w1 and w2 are in the row<br>\n",
    "er1 = 0.1<br>\n",
    "er2 = 0.15<br>"
   ]
  },
  {
   "cell_type": "code",
   "execution_count": 13,
   "metadata": {},
   "outputs": [],
   "source": [
    "def calc_portfolio_exp_ret(row):\n",
    "    er1 = 0.1\n",
    "    er2 = 0.15\n",
    "    w1 = row['w1']\n",
    "    w2 = row['w2']\n",
    "    \n",
    "    return calc_exp_ret(w1, er1, w2, er2) * 100"
   ]
  },
  {
   "cell_type": "markdown",
   "metadata": {},
   "source": [
    "**A python function to calculate the standard deviation for a single row of the DataFrame**\n",
    "\n",
    "This function takes a single argument, a row, and returns the standard deviation for that row by using the function calc_portfolio_std_dev (defined earlier)\n",
    "\n",
    "**Inputs:**<br>\n",
    "The vales for w1 and w2 are in the row<br>\n",
    "sd1 = 0.16<br>\n",
    "sd2 = 0.24<br>\n",
    "coeff = 0.2<br>"
   ]
  },
  {
   "cell_type": "code",
   "execution_count": 14,
   "metadata": {},
   "outputs": [],
   "source": [
    "def calc_portfolio_std_dev(row):\n",
    "    sd1 = 0.16\n",
    "    sd2 = 0.24\n",
    "    coeff = 0.2\n",
    "    w1 = row['w1']\n",
    "    w2 = row['w2']\n",
    "    \n",
    "    return round(calc_std_dev(w1, sd1, w2, sd2, coeff) * 100, 2)"
   ]
  },
  {
   "cell_type": "markdown",
   "metadata": {},
   "source": [
    "**Add two new columns to the DataFrame**\n",
    "\n",
    "'expRet' and 'stdDev'\n",
    "\n",
    "Apply the functions calc_portfolio_exp_ret and calc_portfolio_std_dev to populate the 2 new columns.\n",
    "\n",
    "Display the updated DataFrame"
   ]
  },
  {
   "cell_type": "code",
   "execution_count": 15,
   "metadata": {},
   "outputs": [
    {
     "data": {
      "text/html": [
       "<div>\n",
       "<style scoped>\n",
       "    .dataframe tbody tr th:only-of-type {\n",
       "        vertical-align: middle;\n",
       "    }\n",
       "\n",
       "    .dataframe tbody tr th {\n",
       "        vertical-align: top;\n",
       "    }\n",
       "\n",
       "    .dataframe thead th {\n",
       "        text-align: right;\n",
       "    }\n",
       "</style>\n",
       "<table border=\"1\" class=\"dataframe\">\n",
       "  <thead>\n",
       "    <tr style=\"text-align: right;\">\n",
       "      <th></th>\n",
       "      <th>w1</th>\n",
       "      <th>w2</th>\n",
       "      <th>expRet</th>\n",
       "      <th>stdDev</th>\n",
       "    </tr>\n",
       "  </thead>\n",
       "  <tbody>\n",
       "    <tr>\n",
       "      <th>0</th>\n",
       "      <td>0.0</td>\n",
       "      <td>1.0</td>\n",
       "      <td>15.0</td>\n",
       "      <td>24.00</td>\n",
       "    </tr>\n",
       "    <tr>\n",
       "      <th>1</th>\n",
       "      <td>0.2</td>\n",
       "      <td>0.8</td>\n",
       "      <td>14.0</td>\n",
       "      <td>20.09</td>\n",
       "    </tr>\n",
       "    <tr>\n",
       "      <th>2</th>\n",
       "      <td>0.4</td>\n",
       "      <td>0.6</td>\n",
       "      <td>13.0</td>\n",
       "      <td>16.89</td>\n",
       "    </tr>\n",
       "    <tr>\n",
       "      <th>3</th>\n",
       "      <td>0.6</td>\n",
       "      <td>0.4</td>\n",
       "      <td>12.0</td>\n",
       "      <td>14.87</td>\n",
       "    </tr>\n",
       "    <tr>\n",
       "      <th>4</th>\n",
       "      <td>0.8</td>\n",
       "      <td>0.2</td>\n",
       "      <td>11.0</td>\n",
       "      <td>14.54</td>\n",
       "    </tr>\n",
       "    <tr>\n",
       "      <th>5</th>\n",
       "      <td>1.0</td>\n",
       "      <td>0.0</td>\n",
       "      <td>10.0</td>\n",
       "      <td>16.00</td>\n",
       "    </tr>\n",
       "  </tbody>\n",
       "</table>\n",
       "</div>"
      ],
      "text/plain": [
       "    w1   w2  expRet  stdDev\n",
       "0  0.0  1.0    15.0   24.00\n",
       "1  0.2  0.8    14.0   20.09\n",
       "2  0.4  0.6    13.0   16.89\n",
       "3  0.6  0.4    12.0   14.87\n",
       "4  0.8  0.2    11.0   14.54\n",
       "5  1.0  0.0    10.0   16.00"
      ]
     },
     "execution_count": 15,
     "metadata": {},
     "output_type": "execute_result"
    }
   ],
   "source": [
    "Pfolio_DF['expRet'] = Pfolio_DF.apply(calc_portfolio_exp_ret, axis=1)\n",
    "Pfolio_DF['stdDev'] = Pfolio_DF.apply(calc_portfolio_std_dev, axis=1)\n",
    "Pfolio_DF"
   ]
  },
  {
   "cell_type": "markdown",
   "metadata": {},
   "source": [
    "**Visualize the risk/returns**\n",
    "\n",
    "A very simple plot of the DataFrame can help to visualize the expected returns."
   ]
  },
  {
   "cell_type": "code",
   "execution_count": 16,
   "metadata": {},
   "outputs": [
    {
     "data": {
      "image/png": "[encoded data removed]",
      "text/plain": [
       "<Figure size 432x288 with 1 Axes>"
      ]
     },
     "metadata": {
      "needs_background": "light"
     },
     "output_type": "display_data"
    }
   ],
   "source": [
    "%matplotlib inline\n",
    "import matplotlib.pyplot as plt\n",
    "\n",
    "plt.plot(Pfolio_DF['stdDev'],Pfolio_DF['expRet'], '-ok')\n",
    "\n",
    "plt.xlabel('Standard Deviation of return (%)')\n",
    "plt.ylabel('Expected Return(%)')\n",
    "\n",
    "#set the max and min of both x and y axis\n",
    "plt.xlim(0, Pfolio_DF['stdDev'].max() + 2)\n",
    "plt.ylim(0, Pfolio_DF['expRet'].max() + 2)\n",
    "plt.show()"
   ]
  },
  {
   "cell_type": "markdown",
   "metadata": {},
   "source": [
    "**NOTE**<br>\n",
    "Most investors are risk averse <br>\n",
    "They want increased expected returns while reducing std deviation of return.<br>\n",
    "They will want to move as far as possible in a **North East** direction.<br>\n",
    "Analysis such as this helps investors make more informed investing decisions.<br>\n",
    "\n"
   ]
  },
  {
   "cell_type": "markdown",
   "metadata": {},
   "source": [
    "## The Capital Asset Pricing Model - Alpha and Beta\n",
    "\n",
    "An investor can add a third investment to the portfolio, combine it with any combination of the first 2 investments and produce a new risk return.<br>\n",
    "They can repeat this with a 4th investment, 5th investment etc.<br>\n",
    "Eventually we reach the limit of how far North West we can go.<br>\n",
    "This is known as the efficient frontier\n"
   ]
  },
  {
   "cell_type": "markdown",
   "metadata": {},
   "source": [
    "## The Efficient Frontier\n",
    "\n",
    "For a set of portfolios.\n",
    "\n",
    "<img src=\"../Images/eff_front.PNG\">\n",
    "\n",
    "\n",
    "Note that no single investment can beat the efficient frontier. <br>\n",
    "They cannot have both a lower std dev and a higher return.<br>\n",
    "\n",
    "The area south west of the efficient frontier are the set of all possible investments and for each of these investments, there is a point of the efficient frontier that has both a higher expected return and a lower std deviation.<br>"
   ]
  },
  {
   "cell_type": "markdown",
   "metadata": {},
   "source": [
    "# Beta $\\beta$\n",
    "\n",
    "Consider allocating funds for an investment I into a portfolio M, as follows:<br>\n",
    "- Allocate a portion of the funds for a portfolio M into a risky investment $\\beta$ <br>\n",
    "- Allocate the remainder into a risk free investment $1 - \\beta$<br><br>\n",
    "\n",
    "From the previous equation, the expected return from investment I is <br>\n",
    "$E(R_I)$ = $(1-\\beta_I)R_F$ + $\\beta_IE(R_M)$ <br><br>\n",
    "and because risk free investment have ZERO std deviation<br>\n",
    "$R_I$ has std deviation $\\beta_I\\sigma_M$<br><br>\n",
    "\n",
    "$\\sigma_M$ is the std deviation for portfolio M<br><br>\n",
    "\n",
    "The $\\beta$ of an investment measures the sensitivity of the security in comparison to the market as a whole. Another way of viewing this is that it's a measure of the security's systematic risk.\n",
    "\n",
    "Usually calculated by regressing the security's returns compared to the market's returns.<br>\n",
    "\n",
    "When $\\beta$ is 0, there is no systematic risk and its expected return is $R_F$ (all of the investment is risk free)<br>\n",
    "When $\\beta$ is 1, the security has the same systematic risk as the entire market and its expected return id $E(R_M)$<br><br>\n"
   ]
  },
  {
   "cell_type": "markdown",
   "metadata": {},
   "source": [
    "## The CAPM\n",
    "In general <br>\n",
    "\n",
    "$E(R)$  =  $R_F + \\beta[E(R_M) - R_F]$<br>\n",
    "\n",
    "This is also known as the capital asset pricing model\n",
    "\n",
    "For example:<br>\n",
    "If the risk free rate is 5% and the return on market portfolio is 10%\n",
    "\n",
    "An investment of $\\beta=0$ should have an expected return of 5%\n",
    "\n",
    "An investment of $\\beta=0.5$ should have an expected return of \n",
    "    0.05 + 0.5 X (0.1 - 0.05) = 0.075 (7.5%)\n",
    "    \n",
    "An investment of $\\beta=1.2$ should have an expected return of \n",
    "    0.05 + 1.2 X (0.1 - 0.05) = 0.11 (11%)"
   ]
  },
  {
   "cell_type": "markdown",
   "metadata": {},
   "source": [
    "**A python function to calculate E(R) as defined above.**\n",
    "\n",
    "**Inputs:**<br>\n",
    "Rf, beta, Rm"
   ]
  },
  {
   "cell_type": "code",
   "execution_count": 17,
   "metadata": {},
   "outputs": [],
   "source": [
    "def exp_ret(Rf, beta, Rm):\n",
    "    return Rf + (beta * (Rm - Rf))"
   ]
  },
  {
   "cell_type": "markdown",
   "metadata": {},
   "source": [
    "Compare the function output to our calculated output with the following 'unit test'"
   ]
  },
  {
   "cell_type": "code",
   "execution_count": 18,
   "metadata": {},
   "outputs": [],
   "source": [
    "# Simple tests - assert will throw an error if the expression is not True\n",
    "assert round(exp_ret(0.05, 0, 0.1), 3) == 0.05\n",
    "assert round(exp_ret(0.05, 0.5, 0.1), 3) == 0.075\n",
    "assert round(exp_ret(0.05, 1.2, 0.1), 3) == 0.11"
   ]
  },
  {
   "cell_type": "markdown",
   "metadata": {},
   "source": [
    "# Alpha $\\alpha$\n",
    "\n",
    "The CAPM relates the expected return on a portfolio to the expected return on the market.<br>\n",
    "It can also be used to relate the expected return on a portfolio to the actual return on the market.<br><br>\n",
    "Or<br><br>\n",
    "$E(R_P) = R_F + \\beta(R_M - R_F)$<br><br>\n",
    "Where<br>\n",
    "$R_P$ is return on portfolio<br>\n",
    "$R_F$ is risk free rate<br>\n",
    "When $\\beta$ is 0.6, $R_F$ is 4% and $R_M$ is 20%, \n",
    "$R_P$  = 0.04 + 0.6 X(0.2 - 0.04) = 0.136<br><br>\n",
    "When $\\beta$ is 0.6, $R_F$ is 4% and $R_M$ is 10%, \n",
    "$R_P$  = 0.04 + 0.6 X(0.1 - 0.04) = 0.076<br><br>\n",
    "When $\\beta$ is 0.6, $R_F$ is 4% and $R_M$ is -10%, \n",
    "$R_P$  = 0.04 + 0.6 X(0.2 - 0.04) = -0.044"
   ]
  },
  {
   "cell_type": "code",
   "execution_count": 19,
   "metadata": {},
   "outputs": [],
   "source": [
    "# Again, verify the function gives the same result as our calculations\n",
    "assert round(exp_ret(0.04, 0.6, 0.2), 3) == 0.136\n",
    "assert round(exp_ret(0.04, 0.6, 0.1), 3) == 0.076\n",
    "assert round(exp_ret(0.04, 0.6, -0.1), 3) == -0.044"
   ]
  },
  {
   "cell_type": "markdown",
   "metadata": {},
   "source": [
    "Assume that the portfolio manager produces a superior return for the amount of risk taken.<br>\n",
    "The extra return can be calculated using <br>\n",
    "\n",
    "$R_P - R_F - \\beta(R_M - R_F)$\n",
    "\n",
    "If this is **positive**, it means the investment outperformed the market.\n",
    "\n",
    "If its **negative**, it means the investment underperformed the market.\n",
    "\n",
    "This is knows as alpha $\\alpha$\n",
    "\n",
    "For example<br>\n",
    ">\n",
    ">A portfolio manager has a portfolio with **$\\beta = 0.8$**<br>\n",
    ">The 1 year risk free rate of return is 5%.<br>\n",
    ">The return on the market for the year is 7%<br>\n",
    ">The portfolio manager's return is 9%<br>\n",
    ">The manager's alpha is<br>\n",
    "><BR>\n",
    ">0.09 - 0.05 - 0.8 X (0.07 - 0.05) = 0.024\n",
    ">\n",
    "\n"
   ]
  },
  {
   "cell_type": "markdown",
   "metadata": {},
   "source": [
    "**Calculate the investors alpha**\n",
    "\n",
    "Use the `exp_ret` function defined above\n",
    "\n",
    "**Inputs:**\n",
    "\n",
    "The Beta of the Portfolio is 0.8<br>\n",
    "The 1 year risk free rate of return is 5%.<br>\n",
    "The return on the market for the year is 7%<br>\n",
    "The portfolio managers return is 9%<br>"
   ]
  },
  {
   "cell_type": "code",
   "execution_count": 20,
   "metadata": {},
   "outputs": [
    {
     "data": {
      "text/plain": [
       "0.024"
      ]
     },
     "execution_count": 20,
     "metadata": {},
     "output_type": "execute_result"
    }
   ],
   "source": [
    "alpha = 0.09 - exp_ret(0.05, 0.8, 0.07)\n",
    "\n",
    "round (alpha, 3)"
   ]
  },
  {
   "cell_type": "markdown",
   "metadata": {},
   "source": [
    "Check that the following 'unit test' passes"
   ]
  },
  {
   "cell_type": "code",
   "execution_count": 21,
   "metadata": {},
   "outputs": [],
   "source": [
    "# Simple test to verify the function works correctly\n",
    "assert round(0.09 - exp_ret(0.05, 0.8, 0.07), 3) == 0.024"
   ]
  },
  {
   "cell_type": "code",
   "execution_count": null,
   "metadata": {},
   "outputs": [],
   "source": []
  },
  {
   "cell_type": "code",
   "execution_count": null,
   "metadata": {},
   "outputs": [],
   "source": []
  },
  {
   "cell_type": "code",
   "execution_count": null,
   "metadata": {},
   "outputs": [],
   "source": []
  }
 ],
 "metadata": {
  "kernelspec": {
   "display_name": "Python 3 (ipykernel)",
   "language": "python",
   "name": "python3"
  },
  "language_info": {
   "codemirror_mode": {
    "name": "ipython",
    "version": 3
   },
   "file_extension": ".py",
   "mimetype": "text/x-python",
   "name": "python",
   "nbconvert_exporter": "python",
   "pygments_lexer": "ipython3",
   "version": "3.8.13"
  }
 },
 "nbformat": 4,
 "nbformat_minor": 4
}
