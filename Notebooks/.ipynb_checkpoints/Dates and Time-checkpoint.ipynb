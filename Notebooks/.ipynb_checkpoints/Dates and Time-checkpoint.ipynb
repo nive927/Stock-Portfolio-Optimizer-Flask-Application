{
 "cells": [
  {
   "cell_type": "markdown",
   "metadata": {},
   "source": [
    "<img style=\"float: right;\" width=\"120\" src=\"../Images/supplier-logo.png\">\n",
    "<img style=\"float: left; margin-top: 0\" width=\"80\" src=\"../Images/client-logo.png\">\n",
    "<br><br><br>\n"
   ]
  },
  {
   "cell_type": "markdown",
   "metadata": {},
   "source": [
    "# Synopsis\n",
    "\n",
    "This notebook will explain the following topics and concepts:\n",
    "\n",
    "\n",
    "**Dates and Deltas** \n",
    "- contents of the python datetime library\n",
    "- simple date arithmetic\n",
    "\n",
    "**Converting Dates to Strings** \n",
    "- strftime\n",
    "- formatting\n",
    "\n",
    "**Timezones**\n",
    "- creating time objects for different time zones\n",
    "- listing all supported time zones\n",
    "\n"
   ]
  },
  {
   "cell_type": "markdown",
   "metadata": {},
   "source": [
    "# python datetime library\n",
    "\n",
    "The base library for dates, times and time deltas is called **datetime**\n",
    "\n",
    "This library contains sub-libraries/packages:\n",
    "- datetime\n",
    "- date\n",
    "- time\n",
    "- timedelta\n",
    "- timezone\n",
    "\n",
    "In addition it also defines 2 global constants:\n",
    "- MAXYEAR\n",
    "- MINYEAR"
   ]
  },
  {
   "cell_type": "markdown",
   "metadata": {},
   "source": [
    "## Import the top level library"
   ]
  },
  {
   "cell_type": "code",
   "execution_count": null,
   "metadata": {},
   "outputs": [],
   "source": [
    "import datetime\n",
    "\n",
    "# display the value of the constants\n",
    "print(datetime.MAXYEAR)\n",
    "print(datetime.MINYEAR)"
   ]
  },
  {
   "cell_type": "markdown",
   "metadata": {},
   "source": [
    "## Importing lower level libraries\n",
    "\n",
    "- The lower level libraries can be imported individually.\n",
    "- This can be confusing at first, but it is quite logical.\n",
    "- The confusion arises from the fact that name **datetime** is used twice, once as the name of the root library and once as the name of a lower level library.\n",
    "- To import a lower level library directly, use the syntax:\n",
    "  - from **base-library** import **sub-library**"
   ]
  },
  {
   "cell_type": "code",
   "execution_count": null,
   "metadata": {},
   "outputs": [],
   "source": [
    "from datetime import datetime\n",
    "from datetime import time\n",
    "from datetime import timedelta"
   ]
  },
  {
   "cell_type": "code",
   "execution_count": null,
   "metadata": {},
   "outputs": [],
   "source": [
    "now = datetime.now()\n",
    "then = datetime(2017,8,20)\n",
    "\n",
    "# Subtracting two datetimes will return a timedelta\n",
    "delta = now - then\n",
    "delta\n",
    "delta.days\n",
    "delta.seconds"
   ]
  },
  {
   "cell_type": "markdown",
   "metadata": {},
   "source": [
    "## Timedeltas\n",
    "\n",
    "- are differences in times\n",
    "- expressed in difference units, e.g. days, hours, minutes, seconds\n",
    "- can be both positive and negative."
   ]
  },
  {
   "cell_type": "code",
   "execution_count": null,
   "metadata": {},
   "outputs": [],
   "source": [
    "from datetime import timedelta\n",
    "start = datetime(2013,1,7)\n",
    "start\n",
    "\n",
    "twelve_days = timedelta(12)\n",
    "start+timedelta(12)\n",
    "\n",
    "start+timedelta(2, 74447)"
   ]
  },
  {
   "cell_type": "markdown",
   "metadata": {},
   "source": [
    "# Converting Datetime to String\n",
    "\n",
    "- list of formatter options http://strftime.org/\n",
    "\n",
    "Common formatting strings <br>\n",
    "- %a --- Weekday as locale’s abbreviated name. eg. **Mon**\n",
    "- %a --- Weekday as locale’s abbreviated name. eg. **Mon**\n",
    "- %A --- Weekday as locale’s full name. eg. **Monday**\n",
    "- %w --- Weekday as a decimal number, where 0 is Sunday and 6 is Saturday. eg. **1**\n",
    "- %d --- Day of the month as a zero-padded decimal number. eg. **30**\n",
    "- %b --- Month as locale’s abbreviated name. eg. **Sep**\n",
    "- %B --- Month as locale’s full name. eg. **September**\n",
    "- %m --- Month as a zero-padded decimal number. eg. **09**\n",
    "- %y --- Year without century as a zero-padded decimal number. eg. **13**\n",
    "- %Y --- Year with century as a decimal number. eg.**2013**"
   ]
  },
  {
   "cell_type": "code",
   "execution_count": null,
   "metadata": {},
   "outputs": [],
   "source": [
    "stamp = datetime(2018,9,21)\n",
    "print(str(stamp))\n",
    "\n",
    "stamp.strftime('%Y-%m-%d')\n",
    "\n",
    "stamp.strftime('%A %d %B %Y')"
   ]
  },
  {
   "cell_type": "markdown",
   "metadata": {},
   "source": [
    "# Timezones\n",
    "\n",
    "- use the pytz package (python timezone)\n",
    "- use **all_timezones** to see the entire list"
   ]
  },
  {
   "cell_type": "code",
   "execution_count": null,
   "metadata": {},
   "outputs": [],
   "source": [
    "import pytz\n",
    "\n",
    "tz = pytz.timezone('America/New_York')\n",
    "datetime.now(tz)\n",
    "\n",
    "# Can I set a time zone to be \"America/Salem\"?\n",
    "pytz.all_timezones"
   ]
  },
  {
   "cell_type": "code",
   "execution_count": null,
   "metadata": {},
   "outputs": [],
   "source": []
  },
  {
   "cell_type": "code",
   "execution_count": null,
   "metadata": {},
   "outputs": [],
   "source": []
  },
  {
   "cell_type": "code",
   "execution_count": null,
   "metadata": {},
   "outputs": [],
   "source": []
  }
 ],
 "metadata": {
  "kernelspec": {
   "display_name": "Python 3",
   "language": "python",
   "name": "python3"
  },
  "language_info": {
   "codemirror_mode": {
    "name": "ipython",
    "version": 3
   },
   "file_extension": ".py",
   "mimetype": "text/x-python",
   "name": "python",
   "nbconvert_exporter": "python",
   "pygments_lexer": "ipython3",
   "version": "3.7.4"
  }
 },
 "nbformat": 4,
 "nbformat_minor": 2
}
