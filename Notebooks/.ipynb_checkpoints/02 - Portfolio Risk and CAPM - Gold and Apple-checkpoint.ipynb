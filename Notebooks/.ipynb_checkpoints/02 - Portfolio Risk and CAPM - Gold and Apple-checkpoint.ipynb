{
 "cells": [
  {
   "cell_type": "markdown",
   "metadata": {},
   "source": [
    "# Import the libraries"
   ]
  },
  {
   "cell_type": "code",
   "execution_count": null,
   "metadata": {},
   "outputs": [],
   "source": [
    "import numpy as np\n",
    "import pandas as pd\n",
    "import matplotlib.pyplot as plt\n",
    "import pandas_datareader as pdr\n",
    "\n",
    "from pandas.plotting import register_matplotlib_converters\n",
    "register_matplotlib_converters()"
   ]
  },
  {
   "cell_type": "markdown",
   "metadata": {},
   "source": [
    "# Efficient Frontier\n",
    "\n",
    "Investors have different appetites for risk\n",
    "\n",
    "Some favour safer returns at the expense of less change of exceptional returns.\n",
    "\n",
    "Portfolio theory is that some risk can be mitigated by mixing ecurities together\n",
    "\n",
    "Can allow investors to earn higher rate of return whilst reducing risk"
   ]
  },
  {
   "cell_type": "markdown",
   "metadata": {},
   "source": [
    "## Load in some Data\n",
    "\n",
    "1 years worth\n",
    "\n",
    "Approx 252 days"
   ]
  },
  {
   "cell_type": "code",
   "execution_count": null,
   "metadata": {},
   "outputs": [],
   "source": [
    "stocks = 'AAPL GLD'.split()\n",
    "df = pdr.get_data_yahoo(stocks, '2019')['Adj Close']\n",
    "df = df[-253:]\n",
    "\n",
    "df_vol = pd.DataFrame()\n",
    "\n",
    "for stock in stocks:\n",
    "    if stock not in df_vol:\n",
    "        df_vol[stock] = np.log(df[stock]).diff() "
   ]
  },
  {
   "cell_type": "code",
   "execution_count": null,
   "metadata": {},
   "outputs": [],
   "source": [
    "df_vol\n"
   ]
  },
  {
   "cell_type": "markdown",
   "metadata": {},
   "source": [
    "## Annualize variances\n",
    "\n",
    "Multiply daily variance by 252"
   ]
  },
  {
   "cell_type": "code",
   "execution_count": null,
   "metadata": {},
   "outputs": [],
   "source": [
    "var_aapl = df_vol['AAPL'].var() * 252\n",
    "var_gld = df_vol['GLD'].var() * 252\n",
    "print(var_aapl)\n",
    "print(var_gld)"
   ]
  },
  {
   "cell_type": "markdown",
   "metadata": {},
   "source": [
    "## Construct a Portfolio\n",
    "\n",
    "Weights - 90% apple, 10% gold\n",
    "\n",
    "Expected Returns -  (Apple 14%), Gold(7%)"
   ]
  },
  {
   "cell_type": "code",
   "execution_count": null,
   "metadata": {},
   "outputs": [],
   "source": [
    "w_aapl =  .9\n",
    "w_gld = 1 - w_aapl\n",
    "exp_aapl = .14\n",
    "exp_gld = .07"
   ]
  },
  {
   "cell_type": "code",
   "execution_count": null,
   "metadata": {},
   "outputs": [],
   "source": [
    "exp = w_aapl * exp_aapl + w_gld * exp_gld\n",
    "exp"
   ]
  },
  {
   "cell_type": "markdown",
   "metadata": {},
   "source": [
    "### Anualize the covariance"
   ]
  },
  {
   "cell_type": "code",
   "execution_count": null,
   "metadata": {},
   "outputs": [],
   "source": [
    "np.cov(df_vol['AAPL'][1:], df_vol['GLD'][1:])[1,0]"
   ]
  },
  {
   "cell_type": "code",
   "execution_count": null,
   "metadata": {},
   "outputs": [],
   "source": [
    "cov = np.cov(df_vol['AAPL'][1:], df_vol['GLD'][1:])[0,1] * 252\n",
    "cov"
   ]
  },
  {
   "cell_type": "markdown",
   "metadata": {},
   "source": [
    "### Calculate std of Portfolio\n",
    "\n",
    "Based on weights (90% & 10%)\n",
    "\n",
    "$ \\large std_{port} = \\sqrt{var_{aapl}.(weight_{aapl})^2 + var_{gld}.(weight_{gld})^2 + 2. cov.weight_{aapl}.weight_{gld} }$"
   ]
  },
  {
   "cell_type": "code",
   "execution_count": null,
   "metadata": {},
   "outputs": [],
   "source": [
    "port_std = np.sqrt(var_aapl * w_aapl **2 + var_gld * w_gld ** 2 + 2 * cov * w_aapl * w_gld)\n",
    "port_std"
   ]
  },
  {
   "cell_type": "markdown",
   "metadata": {},
   "source": [
    "## Analyse Results\n",
    "\n",
    "With 90% Apple & 10% gold\n",
    "\n",
    "- Expect return is 13.3%\n",
    "- Expected volatility is 36.7%\n",
    "\n",
    "Might consider this too high a risk"
   ]
  },
  {
   "cell_type": "markdown",
   "metadata": {},
   "source": [
    "## Repeat\n",
    "\n",
    "But with difference weights\n",
    "\n",
    "e.g. weights of 0%, 5%, 10%, 155, ... 100%"
   ]
  },
  {
   "cell_type": "code",
   "execution_count": null,
   "metadata": {},
   "outputs": [],
   "source": [
    "df_effic = pd.DataFrame({'weight_aapl':np.zeros(21), 'exp_ret': np.zeros(21), 'std': np.zeros(21)})\n",
    "\n",
    "df_effic"
   ]
  },
  {
   "cell_type": "code",
   "execution_count": null,
   "metadata": {},
   "outputs": [],
   "source": [
    "df_effic = pd.DataFrame({'weight_aapl':np.zeros(21), 'exp_ret': np.zeros(21), 'std': np.zeros(21)})\n",
    "\n",
    "w_aapl = 0.0\n",
    "for weight in range(21):\n",
    "    df_effic['weight_aapl'][weight] = w_aapl\n",
    "    df_effic['exp_ret'][weight] = w_aapl * exp_aapl + (1-w_aapl) * exp_gld\n",
    "    df_effic['std'][weight] = np.sqrt(var_aapl * w_aapl ** 2 + var_gld * (1-w_aapl) ** 2 + cov * w_aapl * (1 - w_aapl))\n",
    "    w_aapl = w_aapl + .05\n",
    "\n",
    "df_effic"
   ]
  },
  {
   "cell_type": "code",
   "execution_count": null,
   "metadata": {},
   "outputs": [],
   "source": [
    "with plt.style.context('seaborn'):\n",
    "    plt.scatter(df_effic['std'],df_effic['exp_ret'])"
   ]
  },
  {
   "cell_type": "code",
   "execution_count": null,
   "metadata": {},
   "outputs": [],
   "source": []
  },
  {
   "cell_type": "code",
   "execution_count": null,
   "metadata": {},
   "outputs": [],
   "source": []
  }
 ],
 "metadata": {
  "kernelspec": {
   "display_name": "Python 3 (ipykernel)",
   "language": "python",
   "name": "python3"
  },
  "language_info": {
   "codemirror_mode": {
    "name": "ipython",
    "version": 3
   },
   "file_extension": ".py",
   "mimetype": "text/x-python",
   "name": "python",
   "nbconvert_exporter": "python",
   "pygments_lexer": "ipython3",
   "version": "3.9.12"
  }
 },
 "nbformat": 4,
 "nbformat_minor": 4
}
