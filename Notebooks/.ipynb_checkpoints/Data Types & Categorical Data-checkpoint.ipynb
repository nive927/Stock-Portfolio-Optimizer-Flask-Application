{
 "cells": [
  {
   "cell_type": "markdown",
   "metadata": {},
   "source": [
    "<img style=\"float: right;\" width=\"120\" src=\"../Images/supplier-logo.png\">\n",
    "<img style=\"float: left; margin-top: 0\" width=\"80\" src=\"../Images/client-logo.png\">\n",
    "<br><br><br>\n"
   ]
  },
  {
   "cell_type": "markdown",
   "metadata": {},
   "source": [
    "# Synopsis\n",
    "\n",
    "This notebook will explain the following topics and concepts:\n",
    "\n",
    "\n",
    "1) Converting to Strings \n",
    "\n",
    "2) Converting to Numerics \n",
    "\n",
    "3) Categorical Data\n",
    "\n",
    "4) Converting to Categories\n",
    "\n",
    "5) Manipulating Categories\n"
   ]
  },
  {
   "cell_type": "markdown",
   "metadata": {},
   "source": [
    "# Import the data"
   ]
  },
  {
   "cell_type": "code",
   "execution_count": null,
   "metadata": {},
   "outputs": [],
   "source": [
    "import pandas as pd\n",
    "\n",
    "df_tips = pd.read_excel(io='../Data/sample_data.xls', sheet_name='Tips')\n",
    "\n",
    "print(df_tips.dtypes)"
   ]
  },
  {
   "cell_type": "markdown",
   "metadata": {},
   "source": [
    "# Converting to Strings\n",
    "\n",
    "use `astype(...)`\n",
    "-  main parameter is dtype - can be any built in python type = str, float, int,. bool, complex \n",
    "- can also be any dtype specified in numpy library\n"
   ]
  },
  {
   "cell_type": "code",
   "execution_count": null,
   "metadata": {},
   "outputs": [],
   "source": [
    "# Before\n",
    "print(df_tips['id'].dtypes)\n",
    "\n",
    "# After\n",
    "df_tips['id_str'] = df_tips['id'].astype(dtype=str)\n",
    "print(df_tips['id_str'].dtypes)"
   ]
  },
  {
   "cell_type": "markdown",
   "metadata": {},
   "source": [
    "# Converting to Numeric Values\n",
    "\n",
    "use same `astype(...)` function"
   ]
  },
  {
   "cell_type": "code",
   "execution_count": null,
   "metadata": {},
   "outputs": [],
   "source": [
    "# Before\n",
    "print(df_tips.dtypes)\n",
    "\n",
    "# Change total_bill to string\n",
    "df_tips['total_bill'] = df_tips['total_bill'].astype(str)\n",
    "print(df_tips.dtypes)\n",
    "\n",
    "# Change total_bill back to a float\n",
    "df_tips['total_bill'] = df_tips['total_bill'].astype(float)\n",
    "print(df_tips.dtypes)"
   ]
  },
  {
   "cell_type": "markdown",
   "metadata": {},
   "source": [
    "Use `pandas.to_numeric()`"
   ]
  },
  {
   "cell_type": "code",
   "execution_count": null,
   "metadata": {},
   "outputs": [],
   "source": [
    "# Artificially construct some data with a value of 'missing' for some of the total_bill values\n",
    "df_tmp = df_tips.head(10).copy()\n",
    "\n",
    "df_tmp.loc[ [1,3,5,7], 'total_bill'] = 'missing'\n",
    "\n",
    "# Before\n",
    "df_tmp\n",
    "print(df_tmp.dtypes)\n",
    "\n",
    "\n",
    "# convert 'total_bill' to float - ERRORS - cannot convert 'missing' to a float\n",
    "#df_tmp['total_bill'].astype(float)\n",
    "\n",
    "# convert 'total_bill' to float - ERRORS - cannot convert 'missing' to a float\n",
    "#pd.to_numeric(df_tmp['total_bill'])\n",
    "\n",
    "# Use errors to ignore errors\n",
    "pd.to_numeric(df_tmp['total_bill'], errors='ignore')\n",
    "\n",
    "# Use errors to convert 'missing' to Nan\n",
    "pd.to_numeric(df_tmp['total_bill'], errors='coerce')\n"
   ]
  },
  {
   "cell_type": "markdown",
   "metadata": {},
   "source": [
    "# Categorical Data\n",
    "\n",
    "Some values naturall fall into categories\n",
    "\n",
    "e.g. gender (male, female)\n",
    "     risk (high, medium, low)\n",
    "     asset class (equity, fixed income, commodity)\n",
    "     \n",
    "Use `astype('category')` to have pandas re-code a series or DataFrame into a Category"
   ]
  },
  {
   "cell_type": "code",
   "execution_count": null,
   "metadata": {},
   "outputs": [],
   "source": [
    "# change sex coilumn to a string\n",
    "df_tips['sex'] = df_tips['sex'].astype('str')\n",
    "\n",
    "# before\n",
    "print(df_tips.info())\n",
    "\n",
    "# after - change sex to a category\n",
    "df_tips['sex'] = df_tips['sex'].astype('category')\n",
    "print(df_tips.info())\n",
    "\n",
    "# Display the Categories\n",
    "df_tips['sex'].cat.categories\n",
    "\n",
    "# Are they ordered\n",
    "df_tips['sex'].cat.ordered\n",
    "\n",
    "# Display the codes\n",
    "df_tips['sex'].cat.codes\n"
   ]
  },
  {
   "cell_type": "code",
   "execution_count": null,
   "metadata": {},
   "outputs": [],
   "source": []
  },
  {
   "cell_type": "code",
   "execution_count": null,
   "metadata": {},
   "outputs": [],
   "source": []
  }
 ],
 "metadata": {
  "kernelspec": {
   "display_name": "Python 3",
   "language": "python",
   "name": "python3"
  },
  "language_info": {
   "codemirror_mode": {
    "name": "ipython",
    "version": 3
   },
   "file_extension": ".py",
   "mimetype": "text/x-python",
   "name": "python",
   "nbconvert_exporter": "python",
   "pygments_lexer": "ipython3",
   "version": "3.7.4"
  }
 },
 "nbformat": 4,
 "nbformat_minor": 2
}
